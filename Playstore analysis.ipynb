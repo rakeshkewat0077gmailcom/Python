{
 "cells": [
  {
   "cell_type": "markdown",
   "id": "351a3af3",
   "metadata": {},
   "source": [
    "# Assignment 1"
   ]
  },
  {
   "cell_type": "code",
   "execution_count": 1,
   "id": "f0a4c9a0",
   "metadata": {},
   "outputs": [],
   "source": [
    "import numpy as np\n",
    "import pandas as pd\n",
    "import seaborn as sns\n",
    "import matplotlib.pyplot as plt\n",
    "\n",
    "import warnings\n",
    "warnings.filterwarnings('ignore')"
   ]
  },
  {
   "cell_type": "code",
   "execution_count": 3,
   "id": "6bfd1686",
   "metadata": {},
   "outputs": [
    {
     "data": {
      "text/html": [
       "<div>\n",
       "<style scoped>\n",
       "    .dataframe tbody tr th:only-of-type {\n",
       "        vertical-align: middle;\n",
       "    }\n",
       "\n",
       "    .dataframe tbody tr th {\n",
       "        vertical-align: top;\n",
       "    }\n",
       "\n",
       "    .dataframe thead th {\n",
       "        text-align: right;\n",
       "    }\n",
       "</style>\n",
       "<table border=\"1\" class=\"dataframe\">\n",
       "  <thead>\n",
       "    <tr style=\"text-align: right;\">\n",
       "      <th></th>\n",
       "      <th>App</th>\n",
       "      <th>Category</th>\n",
       "      <th>Rating</th>\n",
       "      <th>Reviews</th>\n",
       "      <th>Size</th>\n",
       "      <th>Installs</th>\n",
       "      <th>Type</th>\n",
       "      <th>Price</th>\n",
       "      <th>Content Rating</th>\n",
       "      <th>Genres</th>\n",
       "      <th>Last Updated</th>\n",
       "      <th>Current Ver</th>\n",
       "      <th>Android Ver</th>\n",
       "    </tr>\n",
       "  </thead>\n",
       "  <tbody>\n",
       "    <tr>\n",
       "      <th>0</th>\n",
       "      <td>Photo Editor &amp; Candy Camera &amp; Grid &amp; ScrapBook</td>\n",
       "      <td>ART_AND_DESIGN</td>\n",
       "      <td>4.1</td>\n",
       "      <td>159</td>\n",
       "      <td>19000.0</td>\n",
       "      <td>10,000+</td>\n",
       "      <td>Free</td>\n",
       "      <td>0</td>\n",
       "      <td>Everyone</td>\n",
       "      <td>Art &amp; Design</td>\n",
       "      <td>January 7, 2018</td>\n",
       "      <td>1.0.0</td>\n",
       "      <td>4.0.3 and up</td>\n",
       "    </tr>\n",
       "    <tr>\n",
       "      <th>1</th>\n",
       "      <td>Coloring book moana</td>\n",
       "      <td>ART_AND_DESIGN</td>\n",
       "      <td>3.9</td>\n",
       "      <td>967</td>\n",
       "      <td>14000.0</td>\n",
       "      <td>500,000+</td>\n",
       "      <td>Free</td>\n",
       "      <td>0</td>\n",
       "      <td>Everyone</td>\n",
       "      <td>Art &amp; Design;Pretend Play</td>\n",
       "      <td>January 15, 2018</td>\n",
       "      <td>2.0.0</td>\n",
       "      <td>4.0.3 and up</td>\n",
       "    </tr>\n",
       "    <tr>\n",
       "      <th>2</th>\n",
       "      <td>U Launcher Lite – FREE Live Cool Themes, Hide ...</td>\n",
       "      <td>ART_AND_DESIGN</td>\n",
       "      <td>4.7</td>\n",
       "      <td>87510</td>\n",
       "      <td>8700.0</td>\n",
       "      <td>5,000,000+</td>\n",
       "      <td>Free</td>\n",
       "      <td>0</td>\n",
       "      <td>Everyone</td>\n",
       "      <td>Art &amp; Design</td>\n",
       "      <td>August 1, 2018</td>\n",
       "      <td>1.2.4</td>\n",
       "      <td>4.0.3 and up</td>\n",
       "    </tr>\n",
       "    <tr>\n",
       "      <th>3</th>\n",
       "      <td>Sketch - Draw &amp; Paint</td>\n",
       "      <td>ART_AND_DESIGN</td>\n",
       "      <td>4.5</td>\n",
       "      <td>215644</td>\n",
       "      <td>25000.0</td>\n",
       "      <td>50,000,000+</td>\n",
       "      <td>Free</td>\n",
       "      <td>0</td>\n",
       "      <td>Teen</td>\n",
       "      <td>Art &amp; Design</td>\n",
       "      <td>June 8, 2018</td>\n",
       "      <td>Varies with device</td>\n",
       "      <td>4.2 and up</td>\n",
       "    </tr>\n",
       "    <tr>\n",
       "      <th>4</th>\n",
       "      <td>Pixel Draw - Number Art Coloring Book</td>\n",
       "      <td>ART_AND_DESIGN</td>\n",
       "      <td>4.3</td>\n",
       "      <td>967</td>\n",
       "      <td>2800.0</td>\n",
       "      <td>100,000+</td>\n",
       "      <td>Free</td>\n",
       "      <td>0</td>\n",
       "      <td>Everyone</td>\n",
       "      <td>Art &amp; Design;Creativity</td>\n",
       "      <td>June 20, 2018</td>\n",
       "      <td>1.1</td>\n",
       "      <td>4.4 and up</td>\n",
       "    </tr>\n",
       "  </tbody>\n",
       "</table>\n",
       "</div>"
      ],
      "text/plain": [
       "                                                 App        Category  Rating  \\\n",
       "0     Photo Editor & Candy Camera & Grid & ScrapBook  ART_AND_DESIGN     4.1   \n",
       "1                                Coloring book moana  ART_AND_DESIGN     3.9   \n",
       "2  U Launcher Lite – FREE Live Cool Themes, Hide ...  ART_AND_DESIGN     4.7   \n",
       "3                              Sketch - Draw & Paint  ART_AND_DESIGN     4.5   \n",
       "4              Pixel Draw - Number Art Coloring Book  ART_AND_DESIGN     4.3   \n",
       "\n",
       "  Reviews     Size     Installs  Type Price Content Rating  \\\n",
       "0     159  19000.0      10,000+  Free     0       Everyone   \n",
       "1     967  14000.0     500,000+  Free     0       Everyone   \n",
       "2   87510   8700.0   5,000,000+  Free     0       Everyone   \n",
       "3  215644  25000.0  50,000,000+  Free     0           Teen   \n",
       "4     967   2800.0     100,000+  Free     0       Everyone   \n",
       "\n",
       "                      Genres      Last Updated         Current Ver  \\\n",
       "0               Art & Design   January 7, 2018               1.0.0   \n",
       "1  Art & Design;Pretend Play  January 15, 2018               2.0.0   \n",
       "2               Art & Design    August 1, 2018               1.2.4   \n",
       "3               Art & Design      June 8, 2018  Varies with device   \n",
       "4    Art & Design;Creativity     June 20, 2018                 1.1   \n",
       "\n",
       "    Android Ver  \n",
       "0  4.0.3 and up  \n",
       "1  4.0.3 and up  \n",
       "2  4.0.3 and up  \n",
       "3    4.2 and up  \n",
       "4    4.4 and up  "
      ]
     },
     "execution_count": 3,
     "metadata": {},
     "output_type": "execute_result"
    }
   ],
   "source": [
    "import pandas as pd\n",
    "df= pd.read_csv('F:/Board Infinity/Python/Project/playstore-analysis.csv')\n",
    "df.head()"
   ]
  },
  {
   "cell_type": "code",
   "execution_count": 4,
   "id": "8df53711",
   "metadata": {},
   "outputs": [
    {
     "data": {
      "text/plain": [
       "(10841, 13)"
      ]
     },
     "execution_count": 4,
     "metadata": {},
     "output_type": "execute_result"
    }
   ],
   "source": [
    "df.shape"
   ]
  },
  {
   "cell_type": "markdown",
   "id": "0ef03b26",
   "metadata": {},
   "source": [
    "### Understanding data"
   ]
  },
  {
   "cell_type": "code",
   "execution_count": 5,
   "id": "908d3254",
   "metadata": {},
   "outputs": [
    {
     "data": {
      "text/html": [
       "<div>\n",
       "<style scoped>\n",
       "    .dataframe tbody tr th:only-of-type {\n",
       "        vertical-align: middle;\n",
       "    }\n",
       "\n",
       "    .dataframe tbody tr th {\n",
       "        vertical-align: top;\n",
       "    }\n",
       "\n",
       "    .dataframe thead th {\n",
       "        text-align: right;\n",
       "    }\n",
       "</style>\n",
       "<table border=\"1\" class=\"dataframe\">\n",
       "  <thead>\n",
       "    <tr style=\"text-align: right;\">\n",
       "      <th></th>\n",
       "      <th>App</th>\n",
       "      <th>Category</th>\n",
       "      <th>Rating</th>\n",
       "      <th>Reviews</th>\n",
       "      <th>Size</th>\n",
       "      <th>Installs</th>\n",
       "      <th>Type</th>\n",
       "      <th>Price</th>\n",
       "      <th>Content Rating</th>\n",
       "      <th>Genres</th>\n",
       "      <th>Last Updated</th>\n",
       "      <th>Current Ver</th>\n",
       "      <th>Android Ver</th>\n",
       "    </tr>\n",
       "  </thead>\n",
       "  <tbody>\n",
       "    <tr>\n",
       "      <th>0</th>\n",
       "      <td>Photo Editor &amp; Candy Camera &amp; Grid &amp; ScrapBook</td>\n",
       "      <td>ART_AND_DESIGN</td>\n",
       "      <td>4.1</td>\n",
       "      <td>159</td>\n",
       "      <td>19000.0</td>\n",
       "      <td>10,000+</td>\n",
       "      <td>Free</td>\n",
       "      <td>0</td>\n",
       "      <td>Everyone</td>\n",
       "      <td>Art &amp; Design</td>\n",
       "      <td>January 7, 2018</td>\n",
       "      <td>1.0.0</td>\n",
       "      <td>4.0.3 and up</td>\n",
       "    </tr>\n",
       "    <tr>\n",
       "      <th>1</th>\n",
       "      <td>Coloring book moana</td>\n",
       "      <td>ART_AND_DESIGN</td>\n",
       "      <td>3.9</td>\n",
       "      <td>967</td>\n",
       "      <td>14000.0</td>\n",
       "      <td>500,000+</td>\n",
       "      <td>Free</td>\n",
       "      <td>0</td>\n",
       "      <td>Everyone</td>\n",
       "      <td>Art &amp; Design;Pretend Play</td>\n",
       "      <td>January 15, 2018</td>\n",
       "      <td>2.0.0</td>\n",
       "      <td>4.0.3 and up</td>\n",
       "    </tr>\n",
       "    <tr>\n",
       "      <th>2</th>\n",
       "      <td>U Launcher Lite – FREE Live Cool Themes, Hide ...</td>\n",
       "      <td>ART_AND_DESIGN</td>\n",
       "      <td>4.7</td>\n",
       "      <td>87510</td>\n",
       "      <td>8700.0</td>\n",
       "      <td>5,000,000+</td>\n",
       "      <td>Free</td>\n",
       "      <td>0</td>\n",
       "      <td>Everyone</td>\n",
       "      <td>Art &amp; Design</td>\n",
       "      <td>August 1, 2018</td>\n",
       "      <td>1.2.4</td>\n",
       "      <td>4.0.3 and up</td>\n",
       "    </tr>\n",
       "    <tr>\n",
       "      <th>3</th>\n",
       "      <td>Sketch - Draw &amp; Paint</td>\n",
       "      <td>ART_AND_DESIGN</td>\n",
       "      <td>4.5</td>\n",
       "      <td>215644</td>\n",
       "      <td>25000.0</td>\n",
       "      <td>50,000,000+</td>\n",
       "      <td>Free</td>\n",
       "      <td>0</td>\n",
       "      <td>Teen</td>\n",
       "      <td>Art &amp; Design</td>\n",
       "      <td>June 8, 2018</td>\n",
       "      <td>Varies with device</td>\n",
       "      <td>4.2 and up</td>\n",
       "    </tr>\n",
       "    <tr>\n",
       "      <th>4</th>\n",
       "      <td>Pixel Draw - Number Art Coloring Book</td>\n",
       "      <td>ART_AND_DESIGN</td>\n",
       "      <td>4.3</td>\n",
       "      <td>967</td>\n",
       "      <td>2800.0</td>\n",
       "      <td>100,000+</td>\n",
       "      <td>Free</td>\n",
       "      <td>0</td>\n",
       "      <td>Everyone</td>\n",
       "      <td>Art &amp; Design;Creativity</td>\n",
       "      <td>June 20, 2018</td>\n",
       "      <td>1.1</td>\n",
       "      <td>4.4 and up</td>\n",
       "    </tr>\n",
       "  </tbody>\n",
       "</table>\n",
       "</div>"
      ],
      "text/plain": [
       "                                                 App        Category  Rating  \\\n",
       "0     Photo Editor & Candy Camera & Grid & ScrapBook  ART_AND_DESIGN     4.1   \n",
       "1                                Coloring book moana  ART_AND_DESIGN     3.9   \n",
       "2  U Launcher Lite – FREE Live Cool Themes, Hide ...  ART_AND_DESIGN     4.7   \n",
       "3                              Sketch - Draw & Paint  ART_AND_DESIGN     4.5   \n",
       "4              Pixel Draw - Number Art Coloring Book  ART_AND_DESIGN     4.3   \n",
       "\n",
       "  Reviews     Size     Installs  Type Price Content Rating  \\\n",
       "0     159  19000.0      10,000+  Free     0       Everyone   \n",
       "1     967  14000.0     500,000+  Free     0       Everyone   \n",
       "2   87510   8700.0   5,000,000+  Free     0       Everyone   \n",
       "3  215644  25000.0  50,000,000+  Free     0           Teen   \n",
       "4     967   2800.0     100,000+  Free     0       Everyone   \n",
       "\n",
       "                      Genres      Last Updated         Current Ver  \\\n",
       "0               Art & Design   January 7, 2018               1.0.0   \n",
       "1  Art & Design;Pretend Play  January 15, 2018               2.0.0   \n",
       "2               Art & Design    August 1, 2018               1.2.4   \n",
       "3               Art & Design      June 8, 2018  Varies with device   \n",
       "4    Art & Design;Creativity     June 20, 2018                 1.1   \n",
       "\n",
       "    Android Ver  \n",
       "0  4.0.3 and up  \n",
       "1  4.0.3 and up  \n",
       "2  4.0.3 and up  \n",
       "3    4.2 and up  \n",
       "4    4.4 and up  "
      ]
     },
     "execution_count": 5,
     "metadata": {},
     "output_type": "execute_result"
    }
   ],
   "source": [
    "#Que_1\n",
    "\n",
    "df.head()"
   ]
  },
  {
   "cell_type": "markdown",
   "id": "b76c6c07",
   "metadata": {},
   "source": [
    "### Information of data, with data types"
   ]
  },
  {
   "cell_type": "code",
   "execution_count": 4,
   "id": "fe18d6af",
   "metadata": {},
   "outputs": [
    {
     "name": "stdout",
     "output_type": "stream",
     "text": [
      "<class 'pandas.core.frame.DataFrame'>\n",
      "RangeIndex: 10841 entries, 0 to 10840\n",
      "Data columns (total 13 columns):\n",
      " #   Column          Non-Null Count  Dtype  \n",
      "---  ------          --------------  -----  \n",
      " 0   App             10841 non-null  object \n",
      " 1   Category        10841 non-null  object \n",
      " 2   Rating          9367 non-null   float64\n",
      " 3   Reviews         10841 non-null  object \n",
      " 4   Size            10841 non-null  float64\n",
      " 5   Installs        10841 non-null  object \n",
      " 6   Type            10840 non-null  object \n",
      " 7   Price           10841 non-null  object \n",
      " 8   Content Rating  10840 non-null  object \n",
      " 9   Genres          10841 non-null  object \n",
      " 10  Last Updated    10841 non-null  object \n",
      " 11  Current Ver     10833 non-null  object \n",
      " 12  Android Ver     10838 non-null  object \n",
      "dtypes: float64(2), object(11)\n",
      "memory usage: 1.1+ MB\n"
     ]
    }
   ],
   "source": [
    "df.info()"
   ]
  },
  {
   "cell_type": "markdown",
   "id": "4a2fcbc7",
   "metadata": {},
   "source": [
    "### quantile ranges"
   ]
  },
  {
   "cell_type": "code",
   "execution_count": 5,
   "id": "37abb426",
   "metadata": {},
   "outputs": [
    {
     "data": {
      "text/html": [
       "<div>\n",
       "<style scoped>\n",
       "    .dataframe tbody tr th:only-of-type {\n",
       "        vertical-align: middle;\n",
       "    }\n",
       "\n",
       "    .dataframe tbody tr th {\n",
       "        vertical-align: top;\n",
       "    }\n",
       "\n",
       "    .dataframe thead th {\n",
       "        text-align: right;\n",
       "    }\n",
       "</style>\n",
       "<table border=\"1\" class=\"dataframe\">\n",
       "  <thead>\n",
       "    <tr style=\"text-align: right;\">\n",
       "      <th></th>\n",
       "      <th>Rating</th>\n",
       "      <th>Size</th>\n",
       "    </tr>\n",
       "  </thead>\n",
       "  <tbody>\n",
       "    <tr>\n",
       "      <th>count</th>\n",
       "      <td>9367.000000</td>\n",
       "      <td>10841.000000</td>\n",
       "    </tr>\n",
       "    <tr>\n",
       "      <th>mean</th>\n",
       "      <td>4.193338</td>\n",
       "      <td>21516.529524</td>\n",
       "    </tr>\n",
       "    <tr>\n",
       "      <th>std</th>\n",
       "      <td>0.537431</td>\n",
       "      <td>20746.537567</td>\n",
       "    </tr>\n",
       "    <tr>\n",
       "      <th>min</th>\n",
       "      <td>1.000000</td>\n",
       "      <td>8.500000</td>\n",
       "    </tr>\n",
       "    <tr>\n",
       "      <th>25%</th>\n",
       "      <td>4.000000</td>\n",
       "      <td>5900.000000</td>\n",
       "    </tr>\n",
       "    <tr>\n",
       "      <th>50%</th>\n",
       "      <td>4.300000</td>\n",
       "      <td>18000.000000</td>\n",
       "    </tr>\n",
       "    <tr>\n",
       "      <th>75%</th>\n",
       "      <td>4.500000</td>\n",
       "      <td>26000.000000</td>\n",
       "    </tr>\n",
       "    <tr>\n",
       "      <th>max</th>\n",
       "      <td>19.000000</td>\n",
       "      <td>100000.000000</td>\n",
       "    </tr>\n",
       "  </tbody>\n",
       "</table>\n",
       "</div>"
      ],
      "text/plain": [
       "            Rating           Size\n",
       "count  9367.000000   10841.000000\n",
       "mean      4.193338   21516.529524\n",
       "std       0.537431   20746.537567\n",
       "min       1.000000       8.500000\n",
       "25%       4.000000    5900.000000\n",
       "50%       4.300000   18000.000000\n",
       "75%       4.500000   26000.000000\n",
       "max      19.000000  100000.000000"
      ]
     },
     "execution_count": 5,
     "metadata": {},
     "output_type": "execute_result"
    }
   ],
   "source": [
    "df.describe()"
   ]
  },
  {
   "cell_type": "code",
   "execution_count": 6,
   "id": "3f88b77c",
   "metadata": {},
   "outputs": [
    {
     "data": {
      "text/plain": [
       "Rating            1474\n",
       "Current Ver          8\n",
       "Android Ver          3\n",
       "Type                 1\n",
       "Content Rating       1\n",
       "App                  0\n",
       "Category             0\n",
       "Reviews              0\n",
       "Size                 0\n",
       "Installs             0\n",
       "Price                0\n",
       "Genres               0\n",
       "Last Updated         0\n",
       "dtype: int64"
      ]
     },
     "execution_count": 6,
     "metadata": {},
     "output_type": "execute_result"
    }
   ],
   "source": [
    "missing_values = df.isnull().sum().sort_values(ascending = False)\n",
    "missing_values"
   ]
  },
  {
   "cell_type": "code",
   "execution_count": 7,
   "id": "d3f8fbb1",
   "metadata": {},
   "outputs": [
    {
     "data": {
      "text/plain": [
       "0    4.4\n",
       "dtype: float64"
      ]
     },
     "execution_count": 7,
     "metadata": {},
     "output_type": "execute_result"
    }
   ],
   "source": [
    "# a. Drop records where rating is missing since rating is our target/study variable\n",
    "\n",
    "#Lets clean the all 3 records having the same problem?\n",
    "\n",
    "# Replace remaining missing values with the mode of Rating-\n",
    "\n",
    "rating_mode = df['Rating'].mode()\n",
    "\n",
    "rating_mode"
   ]
  },
  {
   "cell_type": "code",
   "execution_count": 8,
   "id": "6d0959c3",
   "metadata": {},
   "outputs": [],
   "source": [
    "#filling rating with mode value\n",
    "\n",
    "df['Rating'].fillna(value=rating_mode[0], inplace = True)"
   ]
  },
  {
   "cell_type": "code",
   "execution_count": 9,
   "id": "829e57d6",
   "metadata": {},
   "outputs": [
    {
     "data": {
      "text/plain": [
       "Current Ver       8\n",
       "Android Ver       3\n",
       "Type              1\n",
       "Content Rating    1\n",
       "App               0\n",
       "Category          0\n",
       "Rating            0\n",
       "Reviews           0\n",
       "Size              0\n",
       "Installs          0\n",
       "Price             0\n",
       "Genres            0\n",
       "Last Updated      0\n",
       "dtype: int64"
      ]
     },
     "execution_count": 9,
     "metadata": {},
     "output_type": "execute_result"
    }
   ],
   "source": [
    "#again checking the results\n",
    "\n",
    "missing_values = df.isnull().sum().sort_values(ascending = False)\n",
    "missing_values\n",
    "\n",
    "#cleaned Rating column"
   ]
  },
  {
   "cell_type": "code",
   "execution_count": 10,
   "id": "65c21419",
   "metadata": {
    "scrolled": true
   },
   "outputs": [
    {
     "data": {
      "text/plain": [
       "array(['1.0.0', '2.0.0', '1.2.4', ..., '1.0.612928', '0.3.4', '2.0.148.0'],\n",
       "      dtype=object)"
      ]
     },
     "execution_count": 10,
     "metadata": {},
     "output_type": "execute_result"
    }
   ],
   "source": [
    "#lets work on current version, android version, type\n",
    "\n",
    "df['Current Ver'].unique()"
   ]
  },
  {
   "cell_type": "code",
   "execution_count": 11,
   "id": "d55cc6e1",
   "metadata": {},
   "outputs": [],
   "source": [
    "df = df.drop(df[df['Current Ver'].isnull()].index)"
   ]
  },
  {
   "cell_type": "code",
   "execution_count": 12,
   "id": "1e9e0dfb",
   "metadata": {},
   "outputs": [],
   "source": [
    "#Dropped the values with object and we will get all values as float\n",
    "\n",
    "df = df.drop(df[df['Current Ver']=='Varies with device'].index)"
   ]
  },
  {
   "cell_type": "markdown",
   "id": "3bf407b4",
   "metadata": {},
   "source": [
    "### remove the decimals from current version Column"
   ]
  },
  {
   "cell_type": "code",
   "execution_count": 13,
   "id": "4bba829b",
   "metadata": {},
   "outputs": [],
   "source": [
    "df['Current Ver'] = df['Current Ver'].apply(lambda x:str(x).split('.',1)[0])"
   ]
  },
  {
   "cell_type": "code",
   "execution_count": 14,
   "id": "5e9eebd4",
   "metadata": {},
   "outputs": [
    {
     "data": {
      "text/plain": [
       "0    1\n",
       "dtype: object"
      ]
     },
     "execution_count": 14,
     "metadata": {},
     "output_type": "execute_result"
    }
   ],
   "source": [
    "df['Current Ver'].mode()"
   ]
  },
  {
   "cell_type": "markdown",
   "id": "2123ce3f",
   "metadata": {},
   "source": [
    "### values will be filled with mode value"
   ]
  },
  {
   "cell_type": "code",
   "execution_count": 15,
   "id": "28ed92b6",
   "metadata": {},
   "outputs": [],
   "source": [
    "df['Current Ver'].fillna(str(df['Current Ver'].mode().values[0]), inplace = True) "
   ]
  },
  {
   "cell_type": "code",
   "execution_count": 16,
   "id": "a1d6cd52",
   "metadata": {},
   "outputs": [
    {
     "data": {
      "text/plain": [
       "Android Ver       3\n",
       "Content Rating    1\n",
       "App               0\n",
       "Category          0\n",
       "Rating            0\n",
       "Reviews           0\n",
       "Size              0\n",
       "Installs          0\n",
       "Type              0\n",
       "Price             0\n",
       "Genres            0\n",
       "Last Updated      0\n",
       "Current Ver       0\n",
       "dtype: int64"
      ]
     },
     "execution_count": 16,
     "metadata": {},
     "output_type": "execute_result"
    }
   ],
   "source": [
    "#again checking the results\n",
    "\n",
    "missing_values = df.isnull().sum().sort_values(ascending = False)\n",
    "missing_values\n",
    "\n",
    "#here we can see over current version is cleaned, lets move ahead."
   ]
  },
  {
   "cell_type": "code",
   "execution_count": 17,
   "id": "c135e05a",
   "metadata": {},
   "outputs": [
    {
     "data": {
      "text/plain": [
       "array(['4.0.3 and up', '4.4 and up', '2.3 and up', '4.2 and up',\n",
       "       '3.0 and up', '4.1 and up', '4.0 and up', '2.2 and up',\n",
       "       '2.3.3 and up', '6.0 and up', '5.0 and up', 'Varies with device',\n",
       "       '1.6 and up', '2.1 and up', '7.0 and up', '5.1 and up',\n",
       "       '1.5 and up', '4.3 and up', '4.0.3 - 7.1.1', '2.0 and up',\n",
       "       '3.2 and up', '4.4W and up', '7.1 and up', '7.0 - 7.1.1',\n",
       "       '8.0 and up', '5.0 - 8.0', '3.1 and up', '2.0.1 and up',\n",
       "       '4.1 - 7.1.1', nan, '5.0 - 6.0', '1.0 and up', '2.2 - 7.1.1',\n",
       "       '5.0 - 7.1.1'], dtype=object)"
      ]
     },
     "execution_count": 17,
     "metadata": {},
     "output_type": "execute_result"
    }
   ],
   "source": [
    "df['Android Ver'].unique()"
   ]
  },
  {
   "cell_type": "markdown",
   "id": "3724e087",
   "metadata": {},
   "source": [
    "### check mode values in Android Ver column"
   ]
  },
  {
   "cell_type": "code",
   "execution_count": 18,
   "id": "31dc8bbd",
   "metadata": {},
   "outputs": [
    {
     "data": {
      "text/plain": [
       "0    4.1 and up\n",
       "dtype: object"
      ]
     },
     "execution_count": 18,
     "metadata": {},
     "output_type": "execute_result"
    }
   ],
   "source": [
    "df['Android Ver'].mode()"
   ]
  },
  {
   "cell_type": "code",
   "execution_count": 19,
   "id": "8404d809",
   "metadata": {},
   "outputs": [],
   "source": [
    "df['Android Ver'].replace(to_replace=['4.1W and up','Varies with device'], value=['4.1','1.0'],inplace=True)"
   ]
  },
  {
   "cell_type": "code",
   "execution_count": 20,
   "id": "3c86a65f",
   "metadata": {},
   "outputs": [
    {
     "data": {
      "text/plain": [
       "array(['4.0.3 and up', '4.4 and up', '2.3 and up', '4.2 and up',\n",
       "       '3.0 and up', '4.1 and up', '4.0 and up', '2.2 and up',\n",
       "       '2.3.3 and up', '6.0 and up', '5.0 and up', '1.0', '1.6 and up',\n",
       "       '2.1 and up', '7.0 and up', '5.1 and up', '1.5 and up',\n",
       "       '4.3 and up', '4.0.3 - 7.1.1', '2.0 and up', '3.2 and up',\n",
       "       '4.4W and up', '7.1 and up', '7.0 - 7.1.1', '8.0 and up',\n",
       "       '5.0 - 8.0', '3.1 and up', '2.0.1 and up', '4.1 - 7.1.1', nan,\n",
       "       '5.0 - 6.0', '1.0 and up', '2.2 - 7.1.1', '5.0 - 7.1.1'],\n",
       "      dtype=object)"
      ]
     },
     "execution_count": 20,
     "metadata": {},
     "output_type": "execute_result"
    }
   ],
   "source": [
    "#this is new column with unique values of Android Ver column\n",
    "\n",
    "df['Android Ver'].unique()"
   ]
  },
  {
   "cell_type": "markdown",
   "id": "43d34787",
   "metadata": {},
   "source": [
    "### cleaned Android version column "
   ]
  },
  {
   "cell_type": "code",
   "execution_count": 21,
   "id": "62157d9c",
   "metadata": {},
   "outputs": [],
   "source": [
    "df['Android Ver'].replace({k: '1.0' for k in ['1.0','1.0 and up','1.5 and up','1.6 and up']},inplace=True)\n",
    "df['Android Ver'].replace({k: '2.0' for k in ['2.0 and up','2.0.1 and up','2.1 and up','2.2 and up','2.2 - 7.1.1','2.3 and up','2.3.3 and up']},inplace=True)\n",
    "df['Android Ver'].replace({k: '3.0' for k in ['3.0 and up','3.1 and up','3.2 and up']},inplace=True)\n",
    "df['Android Ver'].replace({k: '4.0' for k in ['4.0 and up','4.0.3 and up','4.0.3 - 7.1.1','4.1 and up','4.1 - 7.1.1','4.2 and up','4.3 and up','4.4','4.4 and up']},inplace=True)\n",
    "df['Android Ver'].replace({k: '5.0' for k in ['5.0 - 6.0','5.0 - 7.1.1','5.0 - 8.0','5.0 and up','5.1 and up']},inplace=True)\n",
    "df['Android Ver'].replace({k: '6.0' for k in ['6.0 and up']},inplace=True)\n",
    "df['Android Ver'].replace({k: '7.0' for k in ['7.0 - 7.1.1','7.0 and up','7.1 and up']},inplace=True)\n",
    "df['Android Ver'].replace({k: '8.0' for k in ['8.0 and up']},inplace=True)\n",
    "df['Android Ver'].fillna('1.0', inplace=True)"
   ]
  },
  {
   "cell_type": "code",
   "execution_count": 22,
   "id": "fdd7a57a",
   "metadata": {},
   "outputs": [
    {
     "data": {
      "text/plain": [
       "array(['4.0', '2.0', '3.0', '6.0', '5.0', '1.0', '7.0', '4.4W and up',\n",
       "       '8.0'], dtype=object)"
      ]
     },
     "execution_count": 22,
     "metadata": {},
     "output_type": "execute_result"
    }
   ],
   "source": [
    "df['Android Ver'].unique() #see we have got unique and cleaned values for android version with dictionary."
   ]
  },
  {
   "cell_type": "code",
   "execution_count": 23,
   "id": "43e32802",
   "metadata": {},
   "outputs": [
    {
     "data": {
      "text/plain": [
       "0    4.0\n",
       "dtype: object"
      ]
     },
     "execution_count": 23,
     "metadata": {},
     "output_type": "execute_result"
    }
   ],
   "source": [
    "df['Android Ver'].mode() # mode of Android Ver"
   ]
  },
  {
   "cell_type": "code",
   "execution_count": 24,
   "id": "423b73ad",
   "metadata": {},
   "outputs": [],
   "source": [
    "#values will be filled with mode value of 4\n",
    "df['Android Ver'].fillna(str(df['Android Ver'].mode().values[0]), inplace = True)"
   ]
  },
  {
   "cell_type": "code",
   "execution_count": 25,
   "id": "1ac40cf6",
   "metadata": {},
   "outputs": [
    {
     "data": {
      "text/plain": [
       "Content Rating    1\n",
       "App               0\n",
       "Category          0\n",
       "Rating            0\n",
       "Reviews           0\n",
       "Size              0\n",
       "Installs          0\n",
       "Type              0\n",
       "Price             0\n",
       "Genres            0\n",
       "Last Updated      0\n",
       "Current Ver       0\n",
       "Android Ver       0\n",
       "dtype: int64"
      ]
     },
     "execution_count": 25,
     "metadata": {},
     "output_type": "execute_result"
    }
   ],
   "source": [
    "#we now need to check content rating column : check again\n",
    "\n",
    "values = df.isnull().sum().sort_values(ascending = False)\n",
    "values"
   ]
  },
  {
   "cell_type": "code",
   "execution_count": 26,
   "id": "49aa852e",
   "metadata": {},
   "outputs": [
    {
     "data": {
      "text/plain": [
       "0    Everyone\n",
       "dtype: object"
      ]
     },
     "execution_count": 26,
     "metadata": {},
     "output_type": "execute_result"
    }
   ],
   "source": [
    "df['Content Rating'].mode() # mode of Content Rating column"
   ]
  },
  {
   "cell_type": "markdown",
   "id": "090bfc27",
   "metadata": {},
   "source": [
    "### fill mode value, where is value is nan, in Content Rating column"
   ]
  },
  {
   "cell_type": "code",
   "execution_count": 27,
   "id": "87a68ef3",
   "metadata": {},
   "outputs": [],
   "source": [
    "df['Content Rating'].fillna(str(df['Content Rating'].mode().values[0]), inplace = True)"
   ]
  },
  {
   "cell_type": "code",
   "execution_count": 28,
   "id": "7617e357",
   "metadata": {},
   "outputs": [
    {
     "data": {
      "text/plain": [
       "App               0\n",
       "Category          0\n",
       "Rating            0\n",
       "Reviews           0\n",
       "Size              0\n",
       "Installs          0\n",
       "Type              0\n",
       "Price             0\n",
       "Content Rating    0\n",
       "Genres            0\n",
       "Last Updated      0\n",
       "Current Ver       0\n",
       "Android Ver       0\n",
       "dtype: int64"
      ]
     },
     "execution_count": 28,
     "metadata": {},
     "output_type": "execute_result"
    }
   ],
   "source": [
    "#new results -- no any null values now --\n",
    "\n",
    "missing_values = df.isnull().sum().sort_values(ascending = False)\n",
    "missing_values"
   ]
  },
  {
   "cell_type": "code",
   "execution_count": 29,
   "id": "43b33a93",
   "metadata": {},
   "outputs": [
    {
     "name": "stdout",
     "output_type": "stream",
     "text": [
      "<class 'pandas.core.frame.DataFrame'>\n",
      "Int64Index: 9374 entries, 0 to 10838\n",
      "Data columns (total 13 columns):\n",
      " #   Column          Non-Null Count  Dtype  \n",
      "---  ------          --------------  -----  \n",
      " 0   App             9374 non-null   object \n",
      " 1   Category        9374 non-null   object \n",
      " 2   Rating          9374 non-null   float64\n",
      " 3   Reviews         9374 non-null   object \n",
      " 4   Size            9374 non-null   float64\n",
      " 5   Installs        9374 non-null   object \n",
      " 6   Type            9374 non-null   object \n",
      " 7   Price           9374 non-null   object \n",
      " 8   Content Rating  9374 non-null   object \n",
      " 9   Genres          9374 non-null   object \n",
      " 10  Last Updated    9374 non-null   object \n",
      " 11  Current Ver     9374 non-null   object \n",
      " 12  Android Ver     9374 non-null   object \n",
      "dtypes: float64(2), object(11)\n",
      "memory usage: 1.0+ MB\n"
     ]
    }
   ],
   "source": [
    "df.info()"
   ]
  },
  {
   "cell_type": "code",
   "execution_count": 30,
   "id": "000b1828",
   "metadata": {},
   "outputs": [
    {
     "data": {
      "text/html": [
       "<div>\n",
       "<style scoped>\n",
       "    .dataframe tbody tr th:only-of-type {\n",
       "        vertical-align: middle;\n",
       "    }\n",
       "\n",
       "    .dataframe tbody tr th {\n",
       "        vertical-align: top;\n",
       "    }\n",
       "\n",
       "    .dataframe thead th {\n",
       "        text-align: right;\n",
       "    }\n",
       "</style>\n",
       "<table border=\"1\" class=\"dataframe\">\n",
       "  <thead>\n",
       "    <tr style=\"text-align: right;\">\n",
       "      <th></th>\n",
       "      <th>App</th>\n",
       "      <th>Category</th>\n",
       "      <th>Rating</th>\n",
       "      <th>Reviews</th>\n",
       "      <th>Size</th>\n",
       "      <th>Installs</th>\n",
       "      <th>Type</th>\n",
       "      <th>Price</th>\n",
       "      <th>Content Rating</th>\n",
       "      <th>Genres</th>\n",
       "      <th>Last Updated</th>\n",
       "      <th>Current Ver</th>\n",
       "      <th>Android Ver</th>\n",
       "    </tr>\n",
       "  </thead>\n",
       "  <tbody>\n",
       "    <tr>\n",
       "      <th>0</th>\n",
       "      <td>Photo Editor &amp; Candy Camera &amp; Grid &amp; ScrapBook</td>\n",
       "      <td>ART_AND_DESIGN</td>\n",
       "      <td>4.1</td>\n",
       "      <td>159</td>\n",
       "      <td>19000.0</td>\n",
       "      <td>10,000+</td>\n",
       "      <td>Free</td>\n",
       "      <td>0</td>\n",
       "      <td>Everyone</td>\n",
       "      <td>Art &amp; Design</td>\n",
       "      <td>January 7, 2018</td>\n",
       "      <td>1</td>\n",
       "      <td>4.0</td>\n",
       "    </tr>\n",
       "    <tr>\n",
       "      <th>1</th>\n",
       "      <td>Coloring book moana</td>\n",
       "      <td>ART_AND_DESIGN</td>\n",
       "      <td>3.9</td>\n",
       "      <td>967</td>\n",
       "      <td>14000.0</td>\n",
       "      <td>500,000+</td>\n",
       "      <td>Free</td>\n",
       "      <td>0</td>\n",
       "      <td>Everyone</td>\n",
       "      <td>Art &amp; Design;Pretend Play</td>\n",
       "      <td>January 15, 2018</td>\n",
       "      <td>2</td>\n",
       "      <td>4.0</td>\n",
       "    </tr>\n",
       "  </tbody>\n",
       "</table>\n",
       "</div>"
      ],
      "text/plain": [
       "                                              App        Category  Rating  \\\n",
       "0  Photo Editor & Candy Camera & Grid & ScrapBook  ART_AND_DESIGN     4.1   \n",
       "1                             Coloring book moana  ART_AND_DESIGN     3.9   \n",
       "\n",
       "  Reviews     Size  Installs  Type Price Content Rating  \\\n",
       "0     159  19000.0   10,000+  Free     0       Everyone   \n",
       "1     967  14000.0  500,000+  Free     0       Everyone   \n",
       "\n",
       "                      Genres      Last Updated Current Ver Android Ver  \n",
       "0               Art & Design   January 7, 2018           1         4.0  \n",
       "1  Art & Design;Pretend Play  January 15, 2018           2         4.0  "
      ]
     },
     "execution_count": 30,
     "metadata": {},
     "output_type": "execute_result"
    }
   ],
   "source": [
    "df.head(2)\n",
    "\n",
    "#Type, Size, Installs, Reviews, Genres and Last updated  column review --"
   ]
  },
  {
   "cell_type": "markdown",
   "id": "9bf01124",
   "metadata": {},
   "source": [
    "## Task 2"
   ]
  },
  {
   "cell_type": "code",
   "execution_count": null,
   "id": "8e5c1496",
   "metadata": {},
   "outputs": [],
   "source": [
    "#checking Type column's unique values"
   ]
  },
  {
   "cell_type": "code",
   "execution_count": 31,
   "id": "3e235d90",
   "metadata": {},
   "outputs": [
    {
     "data": {
      "text/plain": [
       "array(['Free', 'Paid', '0'], dtype=object)"
      ]
     },
     "execution_count": 31,
     "metadata": {},
     "output_type": "execute_result"
    }
   ],
   "source": [
    "df['Type'].unique()"
   ]
  },
  {
   "cell_type": "code",
   "execution_count": null,
   "id": "923a0dcb",
   "metadata": {},
   "outputs": [],
   "source": [
    "# Replace 0 values with free"
   ]
  },
  {
   "cell_type": "code",
   "execution_count": 32,
   "id": "1df71269",
   "metadata": {},
   "outputs": [],
   "source": [
    "df['Type'].replace(to_replace=['0'], value=['Free'],inplace=True)"
   ]
  },
  {
   "cell_type": "markdown",
   "id": "b810590c",
   "metadata": {},
   "source": [
    "### checking Installs column's unique values"
   ]
  },
  {
   "cell_type": "code",
   "execution_count": 33,
   "id": "8f984364",
   "metadata": {},
   "outputs": [
    {
     "data": {
      "text/plain": [
       "array(['10,000+', '500,000+', '5,000,000+', '100,000+', '50,000+',\n",
       "       '1,000,000+', '10,000,000+', '5,000+', '100,000,000+',\n",
       "       '50,000,000+', '1,000+', '500,000,000+', '50+', '100+', '500+',\n",
       "       '10+', '1+', '5+', '1,000,000,000+', '0+', 'Free'], dtype=object)"
      ]
     },
     "execution_count": 33,
     "metadata": {},
     "output_type": "execute_result"
    }
   ],
   "source": [
    "df['Installs'].unique()"
   ]
  },
  {
   "cell_type": "markdown",
   "id": "cfc8d0c6",
   "metadata": {},
   "source": [
    "### convert Installs column object into integer data type, and replacing  + sign with 0 and , sign with ''(nothing)"
   ]
  },
  {
   "cell_type": "code",
   "execution_count": 34,
   "id": "7c5c8b5c",
   "metadata": {},
   "outputs": [],
   "source": [
    "df['Installs'] = df['Installs'].apply(lambda x:x.split('+')[0]) #replacing + with 0"
   ]
  },
  {
   "cell_type": "code",
   "execution_count": 35,
   "id": "9856c602",
   "metadata": {},
   "outputs": [],
   "source": [
    "df['Installs'] = df['Installs'].apply(lambda x:x.replace(',', '')) #replacing , with ''(blank, nothing)"
   ]
  },
  {
   "cell_type": "code",
   "execution_count": 36,
   "id": "fa3083e0",
   "metadata": {},
   "outputs": [],
   "source": [
    "df= df.drop(df[df['Installs']== 'Free'].index) # Drop column where free values"
   ]
  },
  {
   "cell_type": "code",
   "execution_count": 37,
   "id": "77d621d5",
   "metadata": {},
   "outputs": [],
   "source": [
    "# Now Installs column is not integer data type, let change into integer data type\n",
    "df['Installs'] = pd.to_numeric(df['Installs'])"
   ]
  },
  {
   "cell_type": "code",
   "execution_count": 38,
   "id": "794faf52",
   "metadata": {},
   "outputs": [
    {
     "data": {
      "text/plain": [
       "array([     10000,     500000,    5000000,     100000,      50000,\n",
       "          1000000,   10000000,       5000,  100000000,   50000000,\n",
       "             1000,  500000000,         50,        100,        500,\n",
       "               10,          1,          5, 1000000000,          0],\n",
       "      dtype=int64)"
      ]
     },
     "execution_count": 38,
     "metadata": {},
     "output_type": "execute_result"
    }
   ],
   "source": [
    "df['Installs'].unique()"
   ]
  },
  {
   "cell_type": "markdown",
   "id": "cd9720da",
   "metadata": {},
   "source": [
    "### Reviews column unique values"
   ]
  },
  {
   "cell_type": "code",
   "execution_count": 39,
   "id": "19a6e1bd",
   "metadata": {},
   "outputs": [
    {
     "data": {
      "text/plain": [
       "array(['159', '967', '87510', ..., '885', '603', '1195'], dtype=object)"
      ]
     },
     "execution_count": 39,
     "metadata": {},
     "output_type": "execute_result"
    }
   ],
   "source": [
    "df.Reviews.unique()"
   ]
  },
  {
   "cell_type": "markdown",
   "id": "4d5585ee",
   "metadata": {},
   "source": [
    "### convert Reviews column values into numeric values"
   ]
  },
  {
   "cell_type": "code",
   "execution_count": 40,
   "id": "a7ee39c2",
   "metadata": {},
   "outputs": [],
   "source": [
    "df.Reviews=pd.to_numeric(df.Reviews)"
   ]
  },
  {
   "cell_type": "markdown",
   "id": "dfd11ce8",
   "metadata": {},
   "source": [
    "### Size column unique values"
   ]
  },
  {
   "cell_type": "code",
   "execution_count": 41,
   "id": "7bf3383d",
   "metadata": {},
   "outputs": [
    {
     "data": {
      "text/plain": [
       "array([1.90000000e+04, 1.40000000e+04, 8.70000000e+03, 2.80000000e+03,\n",
       "       5.60000000e+03, 2.90000000e+04, 3.30000000e+04, 3.10000000e+03,\n",
       "       2.80000000e+04, 1.20000000e+04, 2.00000000e+04, 2.10000000e+04,\n",
       "       3.70000000e+04, 5.50000000e+03, 1.70000000e+04, 3.90000000e+04,\n",
       "       3.10000000e+04, 4.20000000e+03, 7.00000000e+03, 2.30000000e+04,\n",
       "       6.00000000e+03, 2.50000000e+04, 6.10000000e+03, 4.60000000e+03,\n",
       "       9.20000000e+03, 5.20000000e+03, 1.10000000e+04, 2.40000000e+04,\n",
       "       9.40000000e+03, 1.50000000e+04, 1.00000000e+04, 1.20000000e+03,\n",
       "       2.60000000e+04, 8.00000000e+03, 7.90000000e+03, 5.60000000e+04,\n",
       "       5.70000000e+04, 3.50000000e+04, 5.40000000e+04, 2.01000000e+02,\n",
       "       3.60000000e+03, 5.70000000e+03, 8.60000000e+03, 2.40000000e+03,\n",
       "       2.70000000e+04, 2.70000000e+03, 2.50000000e+03, 1.60000000e+04,\n",
       "       2.15165295e+04, 3.40000000e+03, 8.90000000e+03, 3.90000000e+03,\n",
       "       2.90000000e+03, 3.80000000e+04, 3.20000000e+04, 5.40000000e+03,\n",
       "       1.80000000e+04, 1.10000000e+03, 2.20000000e+03, 4.50000000e+03,\n",
       "       9.80000000e+03, 5.20000000e+04, 9.00000000e+03, 6.70000000e+03,\n",
       "       3.00000000e+04, 2.60000000e+03, 7.10000000e+03, 3.70000000e+03,\n",
       "       2.20000000e+04, 7.40000000e+03, 6.40000000e+03, 3.20000000e+03,\n",
       "       8.20000000e+03, 9.90000000e+03, 4.90000000e+03, 9.50000000e+03,\n",
       "       5.00000000e+03, 5.90000000e+03, 1.30000000e+04, 7.30000000e+04,\n",
       "       6.80000000e+03, 3.50000000e+03, 4.00000000e+03, 2.30000000e+03,\n",
       "       7.20000000e+03, 2.10000000e+03, 4.20000000e+04, 7.30000000e+03,\n",
       "       9.10000000e+03, 5.50000000e+04, 2.30000000e+01, 6.50000000e+03,\n",
       "       1.50000000e+03, 7.50000000e+03, 5.10000000e+04, 4.10000000e+04,\n",
       "       4.80000000e+04, 8.50000000e+03, 4.60000000e+04, 8.30000000e+03,\n",
       "       4.30000000e+03, 4.70000000e+03, 3.30000000e+03, 4.00000000e+04,\n",
       "       7.80000000e+03, 8.80000000e+03, 6.60000000e+03, 5.10000000e+03,\n",
       "       6.10000000e+04, 6.60000000e+04, 7.90000000e+01, 8.40000000e+03,\n",
       "       1.18000000e+02, 4.40000000e+04, 6.95000000e+02, 1.60000000e+03,\n",
       "       6.20000000e+03, 1.80000000e+01, 5.30000000e+04, 1.40000000e+03,\n",
       "       3.00000000e+03, 5.80000000e+03, 3.80000000e+03, 9.60000000e+03,\n",
       "       4.50000000e+04, 6.30000000e+04, 4.90000000e+04, 7.70000000e+04,\n",
       "       4.40000000e+03, 4.80000000e+03, 7.00000000e+04, 6.90000000e+03,\n",
       "       9.30000000e+03, 8.10000000e+03, 3.60000000e+04, 8.40000000e+04,\n",
       "       9.70000000e+04, 2.00000000e+03, 1.90000000e+03, 1.80000000e+03,\n",
       "       5.30000000e+03, 4.70000000e+04, 5.56000000e+02, 5.26000000e+02,\n",
       "       7.60000000e+04, 7.60000000e+03, 5.90000000e+04, 9.70000000e+03,\n",
       "       7.80000000e+04, 7.20000000e+04, 4.30000000e+04, 7.70000000e+03,\n",
       "       6.30000000e+03, 3.34000000e+02, 3.40000000e+04, 9.30000000e+04,\n",
       "       6.50000000e+04, 7.90000000e+04, 1.00000000e+05, 5.80000000e+04,\n",
       "       5.00000000e+04, 6.80000000e+04, 6.40000000e+04, 6.70000000e+04,\n",
       "       6.00000000e+04, 9.40000000e+04, 2.32000000e+02, 9.90000000e+04,\n",
       "       6.24000000e+02, 9.50000000e+04, 8.50000000e+00, 4.10000000e+01,\n",
       "       2.92000000e+02, 8.00000000e+04, 1.70000000e+03, 7.40000000e+04,\n",
       "       6.20000000e+04, 6.90000000e+04, 7.50000000e+04, 9.80000000e+04,\n",
       "       8.50000000e+04, 8.20000000e+04, 9.60000000e+04, 8.70000000e+04,\n",
       "       7.10000000e+04, 8.60000000e+04, 9.10000000e+04, 8.10000000e+04,\n",
       "       9.20000000e+04, 8.30000000e+04, 8.80000000e+04, 7.04000000e+02,\n",
       "       8.62000000e+02, 8.99000000e+02, 3.78000000e+02, 2.66000000e+02,\n",
       "       3.75000000e+02, 1.30000000e+03, 9.75000000e+02, 9.80000000e+02,\n",
       "       4.10000000e+03, 8.90000000e+04, 6.96000000e+02, 5.44000000e+02,\n",
       "       5.25000000e+02, 9.20000000e+02, 7.79000000e+02, 8.53000000e+02,\n",
       "       7.20000000e+02, 7.13000000e+02, 7.72000000e+02, 3.18000000e+02,\n",
       "       5.80000000e+01, 2.41000000e+02, 1.96000000e+02, 8.57000000e+02,\n",
       "       5.10000000e+01, 9.53000000e+02, 8.65000000e+02, 2.51000000e+02,\n",
       "       9.30000000e+02, 5.40000000e+02, 3.13000000e+02, 7.46000000e+02,\n",
       "       2.03000000e+02, 2.60000000e+01, 3.14000000e+02, 2.39000000e+02,\n",
       "       3.71000000e+02, 2.20000000e+02, 7.30000000e+02, 7.56000000e+02,\n",
       "       9.10000000e+01, 2.93000000e+02, 1.70000000e+01, 7.40000000e+01,\n",
       "       3.17000000e+02, 7.80000000e+01, 9.24000000e+02, 9.02000000e+02,\n",
       "       8.18000000e+02, 8.10000000e+01, 9.39000000e+02, 1.69000000e+02,\n",
       "       4.50000000e+01, 4.75000000e+02, 9.65000000e+02, 9.00000000e+04,\n",
       "       5.45000000e+02, 6.10000000e+01, 2.83000000e+02, 6.55000000e+02,\n",
       "       7.14000000e+02, 9.30000000e+01, 8.72000000e+02, 1.21000000e+02,\n",
       "       3.22000000e+02, 1.00000000e+03, 9.76000000e+02, 1.72000000e+02,\n",
       "       2.38000000e+02, 5.49000000e+02, 2.06000000e+02, 9.54000000e+02,\n",
       "       4.44000000e+02, 7.17000000e+02, 2.10000000e+02, 6.09000000e+02,\n",
       "       3.08000000e+02, 7.05000000e+02, 3.06000000e+02, 9.04000000e+02,\n",
       "       4.73000000e+02, 1.75000000e+02, 3.50000000e+02, 3.83000000e+02,\n",
       "       4.54000000e+02, 4.21000000e+02, 7.00000000e+01, 8.12000000e+02,\n",
       "       4.42000000e+02, 8.42000000e+02, 4.17000000e+02, 4.12000000e+02,\n",
       "       4.59000000e+02, 4.78000000e+02, 3.35000000e+02, 7.82000000e+02,\n",
       "       7.21000000e+02, 4.30000000e+02, 4.29000000e+02, 1.92000000e+02,\n",
       "       2.00000000e+02, 4.60000000e+02, 7.28000000e+02, 4.96000000e+02,\n",
       "       8.16000000e+02, 4.14000000e+02, 5.06000000e+02, 8.87000000e+02,\n",
       "       6.13000000e+02, 2.43000000e+02, 5.69000000e+02, 7.78000000e+02,\n",
       "       6.83000000e+02, 5.92000000e+02, 3.19000000e+02, 1.86000000e+02,\n",
       "       8.40000000e+02, 6.47000000e+02, 1.91000000e+02, 3.73000000e+02,\n",
       "       4.37000000e+02, 5.98000000e+02, 7.16000000e+02, 5.85000000e+02,\n",
       "       9.82000000e+02, 2.19000000e+02, 5.50000000e+01, 9.48000000e+02,\n",
       "       3.23000000e+02, 6.91000000e+02, 5.11000000e+02, 9.51000000e+02,\n",
       "       9.63000000e+02, 2.50000000e+01, 5.54000000e+02, 3.51000000e+02,\n",
       "       2.70000000e+01, 8.20000000e+01, 2.08000000e+02, 9.13000000e+02,\n",
       "       5.14000000e+02, 5.51000000e+02, 2.90000000e+01, 1.03000000e+02,\n",
       "       8.98000000e+02, 7.43000000e+02, 1.16000000e+02, 1.53000000e+02,\n",
       "       2.09000000e+02, 3.53000000e+02, 4.99000000e+02, 1.73000000e+02,\n",
       "       5.97000000e+02, 8.09000000e+02, 1.22000000e+02, 4.11000000e+02,\n",
       "       4.00000000e+02, 8.01000000e+02, 7.87000000e+02, 5.00000000e+01,\n",
       "       6.43000000e+02, 9.86000000e+02, 9.70000000e+01, 5.16000000e+02,\n",
       "       8.37000000e+02, 7.80000000e+02, 9.61000000e+02, 2.69000000e+02,\n",
       "       2.00000000e+01, 4.98000000e+02, 6.00000000e+02, 7.49000000e+02,\n",
       "       6.42000000e+02, 8.81000000e+02, 7.20000000e+01, 6.56000000e+02,\n",
       "       6.01000000e+02, 2.21000000e+02, 2.28000000e+02, 1.08000000e+02,\n",
       "       9.40000000e+02, 1.76000000e+02, 3.30000000e+01, 6.63000000e+02,\n",
       "       3.40000000e+01, 9.42000000e+02, 2.59000000e+02, 1.64000000e+02,\n",
       "       4.58000000e+02, 2.45000000e+02, 6.29000000e+02, 2.80000000e+01,\n",
       "       2.88000000e+02, 7.75000000e+02, 7.85000000e+02, 6.36000000e+02,\n",
       "       9.16000000e+02, 9.94000000e+02, 3.09000000e+02, 4.85000000e+02,\n",
       "       9.14000000e+02, 9.03000000e+02, 6.08000000e+02, 5.00000000e+02,\n",
       "       5.40000000e+01, 5.62000000e+02, 8.47000000e+02, 9.57000000e+02,\n",
       "       6.88000000e+02, 8.11000000e+02, 2.70000000e+02, 4.80000000e+01,\n",
       "       3.29000000e+02, 5.23000000e+02, 9.21000000e+02, 8.74000000e+02,\n",
       "       9.81000000e+02, 7.84000000e+02, 2.80000000e+02, 2.40000000e+01,\n",
       "       5.18000000e+02, 7.54000000e+02, 8.92000000e+02, 1.54000000e+02,\n",
       "       8.60000000e+02, 3.64000000e+02, 3.87000000e+02, 6.26000000e+02,\n",
       "       1.61000000e+02, 8.79000000e+02, 3.90000000e+01, 9.70000000e+02,\n",
       "       1.70000000e+02, 1.41000000e+02, 1.60000000e+02, 1.44000000e+02,\n",
       "       1.43000000e+02, 1.90000000e+02, 3.76000000e+02, 1.93000000e+02,\n",
       "       2.46000000e+02, 7.30000000e+01, 9.92000000e+02, 2.53000000e+02,\n",
       "       4.20000000e+02, 4.04000000e+02, 4.70000000e+02, 2.26000000e+02,\n",
       "       2.40000000e+02, 8.90000000e+01, 2.34000000e+02, 2.57000000e+02,\n",
       "       8.61000000e+02, 4.67000000e+02, 1.57000000e+02, 4.40000000e+01,\n",
       "       6.76000000e+02, 6.70000000e+01, 5.52000000e+02, 8.85000000e+02,\n",
       "       1.02000000e+03, 5.82000000e+02, 6.19000000e+02])"
      ]
     },
     "execution_count": 41,
     "metadata": {},
     "output_type": "execute_result"
    }
   ],
   "source": [
    "df['Size'].unique()"
   ]
  },
  {
   "cell_type": "markdown",
   "id": "b1028301",
   "metadata": {},
   "source": [
    "### Replace mode value with nan in Size column"
   ]
  },
  {
   "cell_type": "code",
   "execution_count": 42,
   "id": "538899b1",
   "metadata": {
    "scrolled": true
   },
   "outputs": [],
   "source": [
    "df['Size'].replace('Varies with device',np.nan, inplace = True)"
   ]
  },
  {
   "cell_type": "code",
   "execution_count": 43,
   "id": "2383ce54",
   "metadata": {},
   "outputs": [
    {
     "data": {
      "text/plain": [
       "array([1.90000000e+04, 1.40000000e+04, 8.70000000e+03, 2.80000000e+03,\n",
       "       5.60000000e+03, 2.90000000e+04, 3.30000000e+04, 3.10000000e+03,\n",
       "       2.80000000e+04, 1.20000000e+04, 2.00000000e+04, 2.10000000e+04,\n",
       "       3.70000000e+04, 5.50000000e+03, 1.70000000e+04, 3.90000000e+04,\n",
       "       3.10000000e+04, 4.20000000e+03, 7.00000000e+03, 2.30000000e+04,\n",
       "       6.00000000e+03, 2.50000000e+04, 6.10000000e+03, 4.60000000e+03,\n",
       "       9.20000000e+03, 5.20000000e+03, 1.10000000e+04, 2.40000000e+04,\n",
       "       9.40000000e+03, 1.50000000e+04, 1.00000000e+04, 1.20000000e+03,\n",
       "       2.60000000e+04, 8.00000000e+03, 7.90000000e+03, 5.60000000e+04,\n",
       "       5.70000000e+04, 3.50000000e+04, 5.40000000e+04, 2.01000000e+02,\n",
       "       3.60000000e+03, 5.70000000e+03, 8.60000000e+03, 2.40000000e+03,\n",
       "       2.70000000e+04, 2.70000000e+03, 2.50000000e+03, 1.60000000e+04,\n",
       "       2.15165295e+04, 3.40000000e+03, 8.90000000e+03, 3.90000000e+03,\n",
       "       2.90000000e+03, 3.80000000e+04, 3.20000000e+04, 5.40000000e+03,\n",
       "       1.80000000e+04, 1.10000000e+03, 2.20000000e+03, 4.50000000e+03,\n",
       "       9.80000000e+03, 5.20000000e+04, 9.00000000e+03, 6.70000000e+03,\n",
       "       3.00000000e+04, 2.60000000e+03, 7.10000000e+03, 3.70000000e+03,\n",
       "       2.20000000e+04, 7.40000000e+03, 6.40000000e+03, 3.20000000e+03,\n",
       "       8.20000000e+03, 9.90000000e+03, 4.90000000e+03, 9.50000000e+03,\n",
       "       5.00000000e+03, 5.90000000e+03, 1.30000000e+04, 7.30000000e+04,\n",
       "       6.80000000e+03, 3.50000000e+03, 4.00000000e+03, 2.30000000e+03,\n",
       "       7.20000000e+03, 2.10000000e+03, 4.20000000e+04, 7.30000000e+03,\n",
       "       9.10000000e+03, 5.50000000e+04, 2.30000000e+01, 6.50000000e+03,\n",
       "       1.50000000e+03, 7.50000000e+03, 5.10000000e+04, 4.10000000e+04,\n",
       "       4.80000000e+04, 8.50000000e+03, 4.60000000e+04, 8.30000000e+03,\n",
       "       4.30000000e+03, 4.70000000e+03, 3.30000000e+03, 4.00000000e+04,\n",
       "       7.80000000e+03, 8.80000000e+03, 6.60000000e+03, 5.10000000e+03,\n",
       "       6.10000000e+04, 6.60000000e+04, 7.90000000e+01, 8.40000000e+03,\n",
       "       1.18000000e+02, 4.40000000e+04, 6.95000000e+02, 1.60000000e+03,\n",
       "       6.20000000e+03, 1.80000000e+01, 5.30000000e+04, 1.40000000e+03,\n",
       "       3.00000000e+03, 5.80000000e+03, 3.80000000e+03, 9.60000000e+03,\n",
       "       4.50000000e+04, 6.30000000e+04, 4.90000000e+04, 7.70000000e+04,\n",
       "       4.40000000e+03, 4.80000000e+03, 7.00000000e+04, 6.90000000e+03,\n",
       "       9.30000000e+03, 8.10000000e+03, 3.60000000e+04, 8.40000000e+04,\n",
       "       9.70000000e+04, 2.00000000e+03, 1.90000000e+03, 1.80000000e+03,\n",
       "       5.30000000e+03, 4.70000000e+04, 5.56000000e+02, 5.26000000e+02,\n",
       "       7.60000000e+04, 7.60000000e+03, 5.90000000e+04, 9.70000000e+03,\n",
       "       7.80000000e+04, 7.20000000e+04, 4.30000000e+04, 7.70000000e+03,\n",
       "       6.30000000e+03, 3.34000000e+02, 3.40000000e+04, 9.30000000e+04,\n",
       "       6.50000000e+04, 7.90000000e+04, 1.00000000e+05, 5.80000000e+04,\n",
       "       5.00000000e+04, 6.80000000e+04, 6.40000000e+04, 6.70000000e+04,\n",
       "       6.00000000e+04, 9.40000000e+04, 2.32000000e+02, 9.90000000e+04,\n",
       "       6.24000000e+02, 9.50000000e+04, 8.50000000e+00, 4.10000000e+01,\n",
       "       2.92000000e+02, 8.00000000e+04, 1.70000000e+03, 7.40000000e+04,\n",
       "       6.20000000e+04, 6.90000000e+04, 7.50000000e+04, 9.80000000e+04,\n",
       "       8.50000000e+04, 8.20000000e+04, 9.60000000e+04, 8.70000000e+04,\n",
       "       7.10000000e+04, 8.60000000e+04, 9.10000000e+04, 8.10000000e+04,\n",
       "       9.20000000e+04, 8.30000000e+04, 8.80000000e+04, 7.04000000e+02,\n",
       "       8.62000000e+02, 8.99000000e+02, 3.78000000e+02, 2.66000000e+02,\n",
       "       3.75000000e+02, 1.30000000e+03, 9.75000000e+02, 9.80000000e+02,\n",
       "       4.10000000e+03, 8.90000000e+04, 6.96000000e+02, 5.44000000e+02,\n",
       "       5.25000000e+02, 9.20000000e+02, 7.79000000e+02, 8.53000000e+02,\n",
       "       7.20000000e+02, 7.13000000e+02, 7.72000000e+02, 3.18000000e+02,\n",
       "       5.80000000e+01, 2.41000000e+02, 1.96000000e+02, 8.57000000e+02,\n",
       "       5.10000000e+01, 9.53000000e+02, 8.65000000e+02, 2.51000000e+02,\n",
       "       9.30000000e+02, 5.40000000e+02, 3.13000000e+02, 7.46000000e+02,\n",
       "       2.03000000e+02, 2.60000000e+01, 3.14000000e+02, 2.39000000e+02,\n",
       "       3.71000000e+02, 2.20000000e+02, 7.30000000e+02, 7.56000000e+02,\n",
       "       9.10000000e+01, 2.93000000e+02, 1.70000000e+01, 7.40000000e+01,\n",
       "       3.17000000e+02, 7.80000000e+01, 9.24000000e+02, 9.02000000e+02,\n",
       "       8.18000000e+02, 8.10000000e+01, 9.39000000e+02, 1.69000000e+02,\n",
       "       4.50000000e+01, 4.75000000e+02, 9.65000000e+02, 9.00000000e+04,\n",
       "       5.45000000e+02, 6.10000000e+01, 2.83000000e+02, 6.55000000e+02,\n",
       "       7.14000000e+02, 9.30000000e+01, 8.72000000e+02, 1.21000000e+02,\n",
       "       3.22000000e+02, 1.00000000e+03, 9.76000000e+02, 1.72000000e+02,\n",
       "       2.38000000e+02, 5.49000000e+02, 2.06000000e+02, 9.54000000e+02,\n",
       "       4.44000000e+02, 7.17000000e+02, 2.10000000e+02, 6.09000000e+02,\n",
       "       3.08000000e+02, 7.05000000e+02, 3.06000000e+02, 9.04000000e+02,\n",
       "       4.73000000e+02, 1.75000000e+02, 3.50000000e+02, 3.83000000e+02,\n",
       "       4.54000000e+02, 4.21000000e+02, 7.00000000e+01, 8.12000000e+02,\n",
       "       4.42000000e+02, 8.42000000e+02, 4.17000000e+02, 4.12000000e+02,\n",
       "       4.59000000e+02, 4.78000000e+02, 3.35000000e+02, 7.82000000e+02,\n",
       "       7.21000000e+02, 4.30000000e+02, 4.29000000e+02, 1.92000000e+02,\n",
       "       2.00000000e+02, 4.60000000e+02, 7.28000000e+02, 4.96000000e+02,\n",
       "       8.16000000e+02, 4.14000000e+02, 5.06000000e+02, 8.87000000e+02,\n",
       "       6.13000000e+02, 2.43000000e+02, 5.69000000e+02, 7.78000000e+02,\n",
       "       6.83000000e+02, 5.92000000e+02, 3.19000000e+02, 1.86000000e+02,\n",
       "       8.40000000e+02, 6.47000000e+02, 1.91000000e+02, 3.73000000e+02,\n",
       "       4.37000000e+02, 5.98000000e+02, 7.16000000e+02, 5.85000000e+02,\n",
       "       9.82000000e+02, 2.19000000e+02, 5.50000000e+01, 9.48000000e+02,\n",
       "       3.23000000e+02, 6.91000000e+02, 5.11000000e+02, 9.51000000e+02,\n",
       "       9.63000000e+02, 2.50000000e+01, 5.54000000e+02, 3.51000000e+02,\n",
       "       2.70000000e+01, 8.20000000e+01, 2.08000000e+02, 9.13000000e+02,\n",
       "       5.14000000e+02, 5.51000000e+02, 2.90000000e+01, 1.03000000e+02,\n",
       "       8.98000000e+02, 7.43000000e+02, 1.16000000e+02, 1.53000000e+02,\n",
       "       2.09000000e+02, 3.53000000e+02, 4.99000000e+02, 1.73000000e+02,\n",
       "       5.97000000e+02, 8.09000000e+02, 1.22000000e+02, 4.11000000e+02,\n",
       "       4.00000000e+02, 8.01000000e+02, 7.87000000e+02, 5.00000000e+01,\n",
       "       6.43000000e+02, 9.86000000e+02, 9.70000000e+01, 5.16000000e+02,\n",
       "       8.37000000e+02, 7.80000000e+02, 9.61000000e+02, 2.69000000e+02,\n",
       "       2.00000000e+01, 4.98000000e+02, 6.00000000e+02, 7.49000000e+02,\n",
       "       6.42000000e+02, 8.81000000e+02, 7.20000000e+01, 6.56000000e+02,\n",
       "       6.01000000e+02, 2.21000000e+02, 2.28000000e+02, 1.08000000e+02,\n",
       "       9.40000000e+02, 1.76000000e+02, 3.30000000e+01, 6.63000000e+02,\n",
       "       3.40000000e+01, 9.42000000e+02, 2.59000000e+02, 1.64000000e+02,\n",
       "       4.58000000e+02, 2.45000000e+02, 6.29000000e+02, 2.80000000e+01,\n",
       "       2.88000000e+02, 7.75000000e+02, 7.85000000e+02, 6.36000000e+02,\n",
       "       9.16000000e+02, 9.94000000e+02, 3.09000000e+02, 4.85000000e+02,\n",
       "       9.14000000e+02, 9.03000000e+02, 6.08000000e+02, 5.00000000e+02,\n",
       "       5.40000000e+01, 5.62000000e+02, 8.47000000e+02, 9.57000000e+02,\n",
       "       6.88000000e+02, 8.11000000e+02, 2.70000000e+02, 4.80000000e+01,\n",
       "       3.29000000e+02, 5.23000000e+02, 9.21000000e+02, 8.74000000e+02,\n",
       "       9.81000000e+02, 7.84000000e+02, 2.80000000e+02, 2.40000000e+01,\n",
       "       5.18000000e+02, 7.54000000e+02, 8.92000000e+02, 1.54000000e+02,\n",
       "       8.60000000e+02, 3.64000000e+02, 3.87000000e+02, 6.26000000e+02,\n",
       "       1.61000000e+02, 8.79000000e+02, 3.90000000e+01, 9.70000000e+02,\n",
       "       1.70000000e+02, 1.41000000e+02, 1.60000000e+02, 1.44000000e+02,\n",
       "       1.43000000e+02, 1.90000000e+02, 3.76000000e+02, 1.93000000e+02,\n",
       "       2.46000000e+02, 7.30000000e+01, 9.92000000e+02, 2.53000000e+02,\n",
       "       4.20000000e+02, 4.04000000e+02, 4.70000000e+02, 2.26000000e+02,\n",
       "       2.40000000e+02, 8.90000000e+01, 2.34000000e+02, 2.57000000e+02,\n",
       "       8.61000000e+02, 4.67000000e+02, 1.57000000e+02, 4.40000000e+01,\n",
       "       6.76000000e+02, 6.70000000e+01, 5.52000000e+02, 8.85000000e+02,\n",
       "       1.02000000e+03, 5.82000000e+02, 6.19000000e+02])"
      ]
     },
     "execution_count": 43,
     "metadata": {},
     "output_type": "execute_result"
    }
   ],
   "source": [
    "df['Size'].unique() # now show unique values of size column"
   ]
  },
  {
   "cell_type": "markdown",
   "id": "febd868a",
   "metadata": {},
   "source": [
    "#### Conversion to numeric data type"
   ]
  },
  {
   "cell_type": "code",
   "execution_count": 44,
   "id": "7fd4f87d",
   "metadata": {},
   "outputs": [],
   "source": [
    "df['Size']=pd.to_numeric(df['Size']) "
   ]
  },
  {
   "cell_type": "code",
   "execution_count": 45,
   "id": "13aa7db1",
   "metadata": {},
   "outputs": [
    {
     "data": {
      "text/html": [
       "<div>\n",
       "<style scoped>\n",
       "    .dataframe tbody tr th:only-of-type {\n",
       "        vertical-align: middle;\n",
       "    }\n",
       "\n",
       "    .dataframe tbody tr th {\n",
       "        vertical-align: top;\n",
       "    }\n",
       "\n",
       "    .dataframe thead th {\n",
       "        text-align: right;\n",
       "    }\n",
       "</style>\n",
       "<table border=\"1\" class=\"dataframe\">\n",
       "  <thead>\n",
       "    <tr style=\"text-align: right;\">\n",
       "      <th></th>\n",
       "      <th>App</th>\n",
       "      <th>Category</th>\n",
       "      <th>Rating</th>\n",
       "      <th>Reviews</th>\n",
       "      <th>Size</th>\n",
       "      <th>Installs</th>\n",
       "      <th>Type</th>\n",
       "      <th>Price</th>\n",
       "      <th>Content Rating</th>\n",
       "      <th>Genres</th>\n",
       "      <th>Last Updated</th>\n",
       "      <th>Current Ver</th>\n",
       "      <th>Android Ver</th>\n",
       "    </tr>\n",
       "  </thead>\n",
       "  <tbody>\n",
       "    <tr>\n",
       "      <th>0</th>\n",
       "      <td>Photo Editor &amp; Candy Camera &amp; Grid &amp; ScrapBook</td>\n",
       "      <td>ART_AND_DESIGN</td>\n",
       "      <td>4.1</td>\n",
       "      <td>159</td>\n",
       "      <td>19000.0</td>\n",
       "      <td>10000</td>\n",
       "      <td>Free</td>\n",
       "      <td>0</td>\n",
       "      <td>Everyone</td>\n",
       "      <td>Art &amp; Design</td>\n",
       "      <td>January 7, 2018</td>\n",
       "      <td>1</td>\n",
       "      <td>4.0</td>\n",
       "    </tr>\n",
       "    <tr>\n",
       "      <th>1</th>\n",
       "      <td>Coloring book moana</td>\n",
       "      <td>ART_AND_DESIGN</td>\n",
       "      <td>3.9</td>\n",
       "      <td>967</td>\n",
       "      <td>14000.0</td>\n",
       "      <td>500000</td>\n",
       "      <td>Free</td>\n",
       "      <td>0</td>\n",
       "      <td>Everyone</td>\n",
       "      <td>Art &amp; Design;Pretend Play</td>\n",
       "      <td>January 15, 2018</td>\n",
       "      <td>2</td>\n",
       "      <td>4.0</td>\n",
       "    </tr>\n",
       "    <tr>\n",
       "      <th>2</th>\n",
       "      <td>U Launcher Lite – FREE Live Cool Themes, Hide ...</td>\n",
       "      <td>ART_AND_DESIGN</td>\n",
       "      <td>4.7</td>\n",
       "      <td>87510</td>\n",
       "      <td>8700.0</td>\n",
       "      <td>5000000</td>\n",
       "      <td>Free</td>\n",
       "      <td>0</td>\n",
       "      <td>Everyone</td>\n",
       "      <td>Art &amp; Design</td>\n",
       "      <td>August 1, 2018</td>\n",
       "      <td>1</td>\n",
       "      <td>4.0</td>\n",
       "    </tr>\n",
       "    <tr>\n",
       "      <th>4</th>\n",
       "      <td>Pixel Draw - Number Art Coloring Book</td>\n",
       "      <td>ART_AND_DESIGN</td>\n",
       "      <td>4.3</td>\n",
       "      <td>967</td>\n",
       "      <td>2800.0</td>\n",
       "      <td>100000</td>\n",
       "      <td>Free</td>\n",
       "      <td>0</td>\n",
       "      <td>Everyone</td>\n",
       "      <td>Art &amp; Design;Creativity</td>\n",
       "      <td>June 20, 2018</td>\n",
       "      <td>1</td>\n",
       "      <td>4.0</td>\n",
       "    </tr>\n",
       "    <tr>\n",
       "      <th>5</th>\n",
       "      <td>Paper flowers instructions</td>\n",
       "      <td>ART_AND_DESIGN</td>\n",
       "      <td>4.4</td>\n",
       "      <td>167</td>\n",
       "      <td>5600.0</td>\n",
       "      <td>50000</td>\n",
       "      <td>Free</td>\n",
       "      <td>0</td>\n",
       "      <td>Everyone</td>\n",
       "      <td>Art &amp; Design</td>\n",
       "      <td>March 26, 2017</td>\n",
       "      <td>1</td>\n",
       "      <td>2.0</td>\n",
       "    </tr>\n",
       "  </tbody>\n",
       "</table>\n",
       "</div>"
      ],
      "text/plain": [
       "                                                 App        Category  Rating  \\\n",
       "0     Photo Editor & Candy Camera & Grid & ScrapBook  ART_AND_DESIGN     4.1   \n",
       "1                                Coloring book moana  ART_AND_DESIGN     3.9   \n",
       "2  U Launcher Lite – FREE Live Cool Themes, Hide ...  ART_AND_DESIGN     4.7   \n",
       "4              Pixel Draw - Number Art Coloring Book  ART_AND_DESIGN     4.3   \n",
       "5                         Paper flowers instructions  ART_AND_DESIGN     4.4   \n",
       "\n",
       "   Reviews     Size  Installs  Type Price Content Rating  \\\n",
       "0      159  19000.0     10000  Free     0       Everyone   \n",
       "1      967  14000.0    500000  Free     0       Everyone   \n",
       "2    87510   8700.0   5000000  Free     0       Everyone   \n",
       "4      967   2800.0    100000  Free     0       Everyone   \n",
       "5      167   5600.0     50000  Free     0       Everyone   \n",
       "\n",
       "                      Genres      Last Updated Current Ver Android Ver  \n",
       "0               Art & Design   January 7, 2018           1         4.0  \n",
       "1  Art & Design;Pretend Play  January 15, 2018           2         4.0  \n",
       "2               Art & Design    August 1, 2018           1         4.0  \n",
       "4    Art & Design;Creativity     June 20, 2018           1         4.0  \n",
       "5               Art & Design    March 26, 2017           1         2.0  "
      ]
     },
     "execution_count": 45,
     "metadata": {},
     "output_type": "execute_result"
    }
   ],
   "source": [
    "df.head()"
   ]
  },
  {
   "cell_type": "code",
   "execution_count": 48,
   "id": "d1d34822",
   "metadata": {},
   "outputs": [
    {
     "data": {
      "text/plain": [
       "count     9373\n",
       "unique       9\n",
       "top        4.0\n",
       "freq      6831\n",
       "Name: Android Ver, dtype: object"
      ]
     },
     "execution_count": 48,
     "metadata": {},
     "output_type": "execute_result"
    }
   ],
   "source": [
    "df['Android Ver'].describe()"
   ]
  },
  {
   "cell_type": "code",
   "execution_count": 49,
   "id": "6c4b3538",
   "metadata": {},
   "outputs": [
    {
     "name": "stdout",
     "output_type": "stream",
     "text": [
      "<class 'pandas.core.frame.DataFrame'>\n",
      "Int64Index: 9373 entries, 0 to 10838\n",
      "Data columns (total 13 columns):\n",
      " #   Column          Non-Null Count  Dtype  \n",
      "---  ------          --------------  -----  \n",
      " 0   App             9373 non-null   object \n",
      " 1   Category        9373 non-null   object \n",
      " 2   Rating          9373 non-null   float64\n",
      " 3   Reviews         9373 non-null   int64  \n",
      " 4   Size            9373 non-null   float64\n",
      " 5   Installs        9373 non-null   int64  \n",
      " 6   Type            9373 non-null   object \n",
      " 7   Price           9373 non-null   object \n",
      " 8   Content Rating  9373 non-null   object \n",
      " 9   Genres          9373 non-null   object \n",
      " 10  Last Updated    9373 non-null   object \n",
      " 11  Current Ver     9373 non-null   object \n",
      " 12  Android Ver     9373 non-null   object \n",
      "dtypes: float64(2), int64(2), object(9)\n",
      "memory usage: 1.0+ MB\n"
     ]
    }
   ],
   "source": [
    "df.info()"
   ]
  },
  {
   "cell_type": "markdown",
   "id": "231e8966",
   "metadata": {},
   "source": [
    "### total no. of values in Price column"
   ]
  },
  {
   "cell_type": "code",
   "execution_count": 50,
   "id": "cc93b6cb",
   "metadata": {},
   "outputs": [
    {
     "data": {
      "text/plain": [
       "0         8642\n",
       "$0.99      144\n",
       "$2.99      116\n",
       "$1.99       68\n",
       "$4.99       62\n",
       "          ... \n",
       "$19.90       1\n",
       "$1.75        1\n",
       "$14.00       1\n",
       "$4.85        1\n",
       "$1.04        1\n",
       "Name: Price, Length: 88, dtype: int64"
      ]
     },
     "execution_count": 50,
     "metadata": {},
     "output_type": "execute_result"
    }
   ],
   "source": [
    "df['Price'].value_counts()"
   ]
  },
  {
   "cell_type": "markdown",
   "id": "9cb642f4",
   "metadata": {},
   "source": [
    "### Price column cleaning"
   ]
  },
  {
   "cell_type": "code",
   "execution_count": 51,
   "id": "2e12f203",
   "metadata": {},
   "outputs": [],
   "source": [
    "#Remove $ sign in Price column\n",
    "\n",
    "df.Price = df.Price.apply(lambda x: x.replace('$',''))"
   ]
  },
  {
   "cell_type": "code",
   "execution_count": 52,
   "id": "2a04178a",
   "metadata": {},
   "outputs": [],
   "source": [
    "# And convert into float data type\n",
    "\n",
    "df['Price'] = df['Price'].apply(lambda x: float(x))"
   ]
  },
  {
   "cell_type": "code",
   "execution_count": 53,
   "id": "783662d9",
   "metadata": {},
   "outputs": [
    {
     "data": {
      "text/plain": [
       "count    9373.000000\n",
       "mean        1.157213\n",
       "std        17.144064\n",
       "min         0.000000\n",
       "25%         0.000000\n",
       "50%         0.000000\n",
       "75%         0.000000\n",
       "max       400.000000\n",
       "Name: Price, dtype: float64"
      ]
     },
     "execution_count": 53,
     "metadata": {},
     "output_type": "execute_result"
    }
   ],
   "source": [
    "df['Price'].describe()"
   ]
  },
  {
   "cell_type": "code",
   "execution_count": 54,
   "id": "d56828e8",
   "metadata": {},
   "outputs": [],
   "source": [
    "#last updated column change into datetime datatype\n",
    "\n",
    "df['Last Updated'] =  pd.to_datetime(df['Last Updated'])"
   ]
  },
  {
   "cell_type": "code",
   "execution_count": 55,
   "id": "fb25d927",
   "metadata": {},
   "outputs": [
    {
     "data": {
      "text/plain": [
       "Tools                                743\n",
       "Entertainment                        540\n",
       "Education                            497\n",
       "Medical                              440\n",
       "Business                             412\n",
       "                                    ... \n",
       "Travel & Local;Action & Adventure      1\n",
       "Music & Audio;Music & Video            1\n",
       "Health & Fitness;Education             1\n",
       "Board;Pretend Play                     1\n",
       "Strategy;Creativity                    1\n",
       "Name: Genres, Length: 118, dtype: int64"
      ]
     },
     "execution_count": 55,
     "metadata": {},
     "output_type": "execute_result"
    }
   ],
   "source": [
    "#Genres column\n",
    "\n",
    "df['Genres'].value_counts()"
   ]
  },
  {
   "cell_type": "code",
   "execution_count": 56,
   "id": "ae2a223f",
   "metadata": {},
   "outputs": [
    {
     "data": {
      "text/plain": [
       "Tools                      743\n",
       "Education                  579\n",
       "Entertainment              576\n",
       "Medical                    440\n",
       "Business                   412\n",
       "Personalization            355\n",
       "Action                     351\n",
       "Lifestyle                  350\n",
       "Sports                     332\n",
       "Productivity               320\n",
       "Finance                    316\n",
       "Communication              288\n",
       "Photography                275\n",
       "Health & Fitness           273\n",
       "Casual                     250\n",
       "Dating                     222\n",
       "News & Magazines           219\n",
       "Arcade                     219\n",
       "Social                     216\n",
       "Simulation                 207\n",
       "Shopping                   202\n",
       "Books & Reference          201\n",
       "Travel & Local             197\n",
       "Puzzle                     165\n",
       "Video Players & Editors    138\n",
       "Role Playing               119\n",
       "Maps & Navigation          111\n",
       "Racing                     109\n",
       "Educational                107\n",
       "Strategy                   105\n",
       "Food & Drink               100\n",
       "Adventure                   88\n",
       "Libraries & Demo            82\n",
       "Auto & Vehicles             77\n",
       "House & Home                68\n",
       "Art & Design                63\n",
       "Board                       61\n",
       "Weather                     58\n",
       "Events                      56\n",
       "Parenting                   56\n",
       "Comics                      51\n",
       "Beauty                      48\n",
       "Card                        44\n",
       "Trivia                      39\n",
       "Casino                      35\n",
       "Word                        25\n",
       "Music                       24\n",
       "Music & Audio                1\n",
       "Name: Genres, dtype: int64"
      ]
     },
     "execution_count": 56,
     "metadata": {},
     "output_type": "execute_result"
    }
   ],
   "source": [
    "# Split the second genre after the semicolon (;)\n",
    "\n",
    "df['Genres'] = df['Genres'].str.split(';').str[0]\n",
    "df['Genres'].value_counts()"
   ]
  },
  {
   "cell_type": "code",
   "execution_count": 57,
   "id": "974c0e47",
   "metadata": {},
   "outputs": [
    {
     "data": {
      "text/plain": [
       "Tools                      743\n",
       "Education                  579\n",
       "Entertainment              576\n",
       "Medical                    440\n",
       "Business                   412\n",
       "Personalization            355\n",
       "Action                     351\n",
       "Lifestyle                  350\n",
       "Sports                     332\n",
       "Productivity               320\n",
       "Finance                    316\n",
       "Communication              288\n",
       "Photography                275\n",
       "Health & Fitness           273\n",
       "Casual                     250\n",
       "Dating                     222\n",
       "News & Magazines           219\n",
       "Arcade                     219\n",
       "Social                     216\n",
       "Simulation                 207\n",
       "Shopping                   202\n",
       "Books & Reference          201\n",
       "Travel & Local             197\n",
       "Puzzle                     165\n",
       "Video Players & Editors    138\n",
       "Role Playing               119\n",
       "Maps & Navigation          111\n",
       "Racing                     109\n",
       "Educational                107\n",
       "Strategy                   105\n",
       "Food & Drink               100\n",
       "Adventure                   88\n",
       "Libraries & Demo            82\n",
       "Auto & Vehicles             77\n",
       "House & Home                68\n",
       "Art & Design                63\n",
       "Board                       61\n",
       "Weather                     58\n",
       "Events                      56\n",
       "Parenting                   56\n",
       "Comics                      51\n",
       "Beauty                      48\n",
       "Card                        44\n",
       "Trivia                      39\n",
       "Casino                      35\n",
       "Word                        25\n",
       "Music                       25\n",
       "Name: Genres, dtype: int64"
      ]
     },
     "execution_count": 57,
     "metadata": {},
     "output_type": "execute_result"
    }
   ],
   "source": [
    "# 'Music & Audio' should be grouped together with 'Music' since they're the same\n",
    "\n",
    "df['Genres'].replace('Music & Audio', 'Music', inplace = True)\n",
    "df['Genres'].value_counts()"
   ]
  },
  {
   "cell_type": "markdown",
   "id": "7bdee382",
   "metadata": {},
   "source": [
    "## Task 4"
   ]
  },
  {
   "cell_type": "markdown",
   "id": "aaadb740",
   "metadata": {},
   "source": [
    "4. Identify and handle outliers –"
   ]
  },
  {
   "cell_type": "code",
   "execution_count": 58,
   "id": "9e2bca65",
   "metadata": {},
   "outputs": [
    {
     "name": "stdout",
     "output_type": "stream",
     "text": [
      "       Price     Size  Rating\n",
      "0        0.0  19000.0     4.1\n",
      "1        0.0  14000.0     3.9\n",
      "2        0.0   8700.0     4.7\n",
      "4        0.0   2800.0     4.3\n",
      "5        0.0   5600.0     4.4\n",
      "...      ...      ...     ...\n",
      "10834    0.0   2600.0     4.0\n",
      "10835    0.0   9600.0     4.4\n",
      "10836    0.0  53000.0     4.5\n",
      "10837    0.0   3600.0     5.0\n",
      "10838    0.0   9500.0     4.4\n",
      "\n",
      "[9373 rows x 3 columns]\n"
     ]
    }
   ],
   "source": [
    "x=df[['Price','Size','Rating']]\n",
    "print(x)"
   ]
  },
  {
   "cell_type": "code",
   "execution_count": null,
   "id": "54b6bc47",
   "metadata": {},
   "outputs": [],
   "source": [
    "# i. Make suitable plot to identify outliers in price column--"
   ]
  },
  {
   "cell_type": "code",
   "execution_count": 59,
   "id": "ba74d037",
   "metadata": {},
   "outputs": [
    {
     "data": {
      "image/png": "[encoded data removed]",
      "text/plain": [
       "<Figure size 432x288 with 1 Axes>"
      ]
     },
     "metadata": {
      "needs_background": "light"
     },
     "output_type": "display_data"
    }
   ],
   "source": [
    "sns.boxplot(x['Price']);"
   ]
  },
  {
   "cell_type": "code",
   "execution_count": null,
   "id": "e2ad0e87",
   "metadata": {},
   "outputs": [],
   "source": [
    "# ii. Do you expect apps on the play store to cost $200? Check out these cases"
   ]
  },
  {
   "cell_type": "code",
   "execution_count": 60,
   "id": "da69fdb3",
   "metadata": {},
   "outputs": [
    {
     "data": {
      "text/plain": [
       "1"
      ]
     },
     "execution_count": 60,
     "metadata": {},
     "output_type": "execute_result"
    }
   ],
   "source": [
    "(df[\"Price\"]==200).sum()"
   ]
  },
  {
   "cell_type": "code",
   "execution_count": null,
   "id": "ac125de0",
   "metadata": {},
   "outputs": [],
   "source": [
    "# iv. Limit data to records with price < $30"
   ]
  },
  {
   "cell_type": "code",
   "execution_count": 61,
   "id": "9a5f46da",
   "metadata": {},
   "outputs": [],
   "source": [
    "y=(df[\"Price\"]<30)"
   ]
  },
  {
   "cell_type": "code",
   "execution_count": 67,
   "id": "decad7a5",
   "metadata": {},
   "outputs": [
    {
     "data": {
      "image/png": "[encoded data removed]",
      "text/plain": [
       "<Figure size 432x288 with 1 Axes>"
      ]
     },
     "metadata": {
      "needs_background": "light"
     },
     "output_type": "display_data"
    }
   ],
   "source": [
    "sns.boxplot((x['Price']));"
   ]
  },
  {
   "cell_type": "code",
   "execution_count": 68,
   "id": "3ddac9b8",
   "metadata": {},
   "outputs": [
    {
     "data": {
      "text/html": [
       "<div>\n",
       "<style scoped>\n",
       "    .dataframe tbody tr th:only-of-type {\n",
       "        vertical-align: middle;\n",
       "    }\n",
       "\n",
       "    .dataframe tbody tr th {\n",
       "        vertical-align: top;\n",
       "    }\n",
       "\n",
       "    .dataframe thead th {\n",
       "        text-align: right;\n",
       "    }\n",
       "</style>\n",
       "<table border=\"1\" class=\"dataframe\">\n",
       "  <thead>\n",
       "    <tr style=\"text-align: right;\">\n",
       "      <th></th>\n",
       "      <th>Price</th>\n",
       "      <th>Size</th>\n",
       "      <th>Rating</th>\n",
       "    </tr>\n",
       "  </thead>\n",
       "  <tbody>\n",
       "    <tr>\n",
       "      <th>Price</th>\n",
       "      <td>1.000000</td>\n",
       "      <td>-0.022894</td>\n",
       "      <td>-0.018502</td>\n",
       "    </tr>\n",
       "    <tr>\n",
       "      <th>Size</th>\n",
       "      <td>-0.022894</td>\n",
       "      <td>1.000000</td>\n",
       "      <td>0.054953</td>\n",
       "    </tr>\n",
       "    <tr>\n",
       "      <th>Rating</th>\n",
       "      <td>-0.018502</td>\n",
       "      <td>0.054953</td>\n",
       "      <td>1.000000</td>\n",
       "    </tr>\n",
       "  </tbody>\n",
       "</table>\n",
       "</div>"
      ],
      "text/plain": [
       "           Price      Size    Rating\n",
       "Price   1.000000 -0.022894 -0.018502\n",
       "Size   -0.022894  1.000000  0.054953\n",
       "Rating -0.018502  0.054953  1.000000"
      ]
     },
     "execution_count": 68,
     "metadata": {},
     "output_type": "execute_result"
    }
   ],
   "source": [
    "x.corr()"
   ]
  },
  {
   "cell_type": "markdown",
   "id": "29df77c1",
   "metadata": {},
   "source": [
    "b. Reviews column"
   ]
  },
  {
   "cell_type": "markdown",
   "id": "c87d08f3",
   "metadata": {},
   "source": [
    "i. Make suitable plot\n",
    "ii. Limit data to apps with < 1 Million reviews"
   ]
  },
  {
   "cell_type": "code",
   "execution_count": 76,
   "id": "d962d2a9",
   "metadata": {},
   "outputs": [
    {
     "name": "stdout",
     "output_type": "stream",
     "text": [
      "       Reviews  Rating\n",
      "0          159     4.1\n",
      "1          967     3.9\n",
      "2        87510     4.7\n",
      "4          967     4.3\n",
      "5          167     4.4\n",
      "...        ...     ...\n",
      "10834        7     4.0\n",
      "10835        0     4.4\n",
      "10836       38     4.5\n",
      "10837        4     5.0\n",
      "10838        3     4.4\n",
      "\n",
      "[9373 rows x 2 columns]\n"
     ]
    }
   ],
   "source": [
    "y=df[['Reviews','Rating']]\n",
    "print(y)"
   ]
  },
  {
   "cell_type": "code",
   "execution_count": 77,
   "id": "fc7a6ba5",
   "metadata": {},
   "outputs": [
    {
     "data": {
      "image/png": "[encoded data removed]",
      "text/plain": [
       "<Figure size 432x288 with 1 Axes>"
      ]
     },
     "metadata": {
      "needs_background": "light"
     },
     "output_type": "display_data"
    }
   ],
   "source": [
    "sns.boxplot(y['Reviews']);"
   ]
  },
  {
   "cell_type": "code",
   "execution_count": 78,
   "id": "17a10a13",
   "metadata": {},
   "outputs": [
    {
     "data": {
      "image/png": "[encoded data removed]",
      "text/plain": [
       "<Figure size 432x288 with 1 Axes>"
      ]
     },
     "metadata": {
      "needs_background": "light"
     },
     "output_type": "display_data"
    }
   ],
   "source": [
    "#re = (df[\"Reviews\"]<1000000)\n",
    "# sns.boxplot((re[\"Reviews\"]<1000000));\n",
    "sns.distplot((df[\"Reviews\"]<1000000), kde=False);"
   ]
  },
  {
   "cell_type": "code",
   "execution_count": 79,
   "id": "7f31a133",
   "metadata": {},
   "outputs": [
    {
     "data": {
      "text/plain": [
       "<AxesSubplot:xlabel='Reviews'>"
      ]
     },
     "execution_count": 79,
     "metadata": {},
     "output_type": "execute_result"
    },
    {
     "data": {
      "image/png": "[encoded data removed]",
      "text/plain": [
       "<Figure size 432x288 with 1 Axes>"
      ]
     },
     "metadata": {
      "needs_background": "light"
     },
     "output_type": "display_data"
    }
   ],
   "source": [
    "sns.distplot(df['Reviews'], kde=False)"
   ]
  },
  {
   "cell_type": "markdown",
   "id": "1afa69d1",
   "metadata": {},
   "source": [
    "# 7. Effect of size on rating"
   ]
  },
  {
   "cell_type": "markdown",
   "id": "8064c529",
   "metadata": {},
   "source": [
    "a. Make a joinplot to understand the effect of size on rating"
   ]
  },
  {
   "cell_type": "code",
   "execution_count": 81,
   "id": "4a2eebd7",
   "metadata": {},
   "outputs": [],
   "source": [
    "import warnings as warn\n",
    "import socket"
   ]
  },
  {
   "cell_type": "code",
   "execution_count": 82,
   "id": "91a02529",
   "metadata": {},
   "outputs": [
    {
     "data": {
      "text/plain": [
       "<seaborn.axisgrid.JointGrid at 0x2358939c4c0>"
      ]
     },
     "execution_count": 82,
     "metadata": {},
     "output_type": "execute_result"
    },
    {
     "data": {
      "image/png": "[encoded data removed]",
      "text/plain": [
       "<Figure size 432x432 with 3 Axes>"
      ]
     },
     "metadata": {
      "needs_background": "light"
     },
     "output_type": "display_data"
    }
   ],
   "source": [
    "socket.getaddrinfo('localhost', 25)\n",
    "#tips=sns.load_dataset('tips')\n",
    "sns.jointplot(x='Rating',y='Size',data=df, kind='scatter')"
   ]
  },
  {
   "cell_type": "markdown",
   "id": "bb6a9325",
   "metadata": {},
   "source": [
    "# 8. Effect of price on rating"
   ]
  },
  {
   "cell_type": "code",
   "execution_count": 83,
   "id": "a447b170",
   "metadata": {},
   "outputs": [
    {
     "data": {
      "image/png": "[encoded data removed]",
      "text/plain": [
       "<Figure size 432x288 with 1 Axes>"
      ]
     },
     "metadata": {
      "needs_background": "light"
     },
     "output_type": "display_data"
    }
   ],
   "source": [
    "#a. Make a jointplot (with regression line)\n",
    "sns.regplot(x='Price', y= 'Rating', ci= None, data=df);"
   ]
  },
  {
   "cell_type": "markdown",
   "id": "df7746f7",
   "metadata": {},
   "source": [
    "# 9. Look at all the numeric interactions together –"
   ]
  },
  {
   "cell_type": "markdown",
   "id": "5f3ed78c",
   "metadata": {},
   "source": [
    "a. Make a pairplort with the columns - 'Reviews', 'Size', 'Rating', 'Price'"
   ]
  },
  {
   "cell_type": "code",
   "execution_count": 84,
   "id": "9a21962f",
   "metadata": {},
   "outputs": [
    {
     "data": {
      "text/plain": [
       "<seaborn.axisgrid.PairGrid at 0x2358ad11b50>"
      ]
     },
     "execution_count": 84,
     "metadata": {},
     "output_type": "execute_result"
    },
    {
     "data": {
      "image/png": "[encoded data removed]",
      "text/plain": [
       "<Figure size 720x720 with 20 Axes>"
      ]
     },
     "metadata": {
      "needs_background": "light"
     },
     "output_type": "display_data"
    }
   ],
   "source": [
    "z=df[['Reviews', 'Size', 'Rating', 'Price']]\n",
    "sns.pairplot(z)"
   ]
  },
  {
   "cell_type": "markdown",
   "id": "38d9a5cb",
   "metadata": {},
   "source": [
    "# 11. Content rating vs. size vs. rating – 3 variables at a time"
   ]
  },
  {
   "cell_type": "code",
   "execution_count": 85,
   "id": "ff1cafcf",
   "metadata": {},
   "outputs": [],
   "source": [
    "a=df[['Rating','Size', 'Rating']]"
   ]
  },
  {
   "cell_type": "code",
   "execution_count": 86,
   "id": "f9aa230e",
   "metadata": {},
   "outputs": [
    {
     "data": {
      "text/plain": [
       "<AxesSubplot:>"
      ]
     },
     "execution_count": 86,
     "metadata": {},
     "output_type": "execute_result"
    },
    {
     "data": {
      "image/png": "[encoded data removed]",
      "text/plain": [
       "<Figure size 432x288 with 2 Axes>"
      ]
     },
     "metadata": {
      "needs_background": "light"
     },
     "output_type": "display_data"
    }
   ],
   "source": [
    "sns.heatmap(a.corr(),cmap='Greens', annot=True)"
   ]
  },
  {
   "cell_type": "code",
   "execution_count": null,
   "id": "e54c4dda",
   "metadata": {},
   "outputs": [],
   "source": []
  }
 ],
 "metadata": {
  "kernelspec": {
   "display_name": "Python 3 (ipykernel)",
   "language": "python",
   "name": "python3"
  },
  "language_info": {
   "codemirror_mode": {
    "name": "ipython",
    "version": 3
   },
   "file_extension": ".py",
   "mimetype": "text/x-python",
   "name": "python",
   "nbconvert_exporter": "python",
   "pygments_lexer": "ipython3",
   "version": "3.9.7"
  }
 },
 "nbformat": 4,
 "nbformat_minor": 5
}
